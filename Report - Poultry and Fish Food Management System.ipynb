{
 "cells": [
  {
   "cell_type": "markdown",
   "id": "a5ce3e10-dc65-4a83-abaf-84331fed2a1c",
   "metadata": {},
   "source": [
    "# <center> <span style=\"font-family: Verdana;\">Design and Planning:</span>\n",
    "## <span style=\"font-family: Verdana; font-size: 20px;\"><center>Poultry and Fish - Food Management System  </span>"
   ]
  },
  {
   "cell_type": "markdown",
   "id": "5d48bdf1-7dfa-4b4c-9f3a-0934710e2b75",
   "metadata": {},
   "source": [
    "<center><img src = \"https://devtechnosys.com/insights/wp-content/uploads/2022/02/What-is-School-Management-Software.gif\" alt = \"System\">"
   ]
  },
  {
   "cell_type": "markdown",
   "id": "073c625a-eee9-40a8-ad1a-335040acda3a",
   "metadata": {},
   "source": [
    "---"
   ]
  },
  {
   "cell_type": "markdown",
   "id": "ab76352c-78cc-40a3-ae49-4fad35b6459c",
   "metadata": {},
   "source": [
    "## Problem Statement:\n",
    "### Type: Company Specific (Inunity) \n"
   ]
  },
  {
   "cell_type": "markdown",
   "id": "b3426821-3c33-4d71-b03d-dfccb6590f17",
   "metadata": {},
   "source": [
    "### **IN18:**\n",
    "> *Currently, chickens and fish are fed by hand or with simple timed feeders. This can lead to overfeeding, underfeeding, and food waste. How might we best introduce and design demand feeders such that timely dispensing of food is undertaken with minimal wastage while ebing cost effective for mass implementation across small scale farms?*"
   ]
  },
  {
   "cell_type": "markdown",
   "id": "46e19f1d-c318-474e-a7aa-a6edcd94fdbf",
   "metadata": {},
   "source": [
    "---"
   ]
  },
  {
   "cell_type": "markdown",
   "id": "3d5b2b75-f4da-4d61-a3df-92b291158f03",
   "metadata": {},
   "source": [
    "# Understanding the Problem:\n",
    "\n",
    "> *Understanding the task involves reimagining how we feed chickens and fish. The objective is to develop intelligent, demand-driven feeding models that respond directly to the healthy food consumption schedules. This requires a deep comprehension of their feeding patterns and needs. By creating systems that recognize and cater to these cues, we aim to minimize waste, optimize feeding efficiency, and enhance animal health. The challenge is to grasp these nuances and design cost-effective solutions that can seamlessly integrate into small-scale farming operations, revolutionizing feeding practices without dwelling on the shortcomings of existing methods.*"
   ]
  },
  {
   "cell_type": "markdown",
   "id": "5823eb63-9fff-4a88-b74c-257d6aacffdb",
   "metadata": {},
   "source": [
    "---"
   ]
  },
  {
   "cell_type": "markdown",
   "id": "f0d6317b-1ccc-46f6-9b37-64dc15fba3b6",
   "metadata": {},
   "source": [
    "# Issues faced with the current system:\n",
    "\n",
    "* **Overfeeding**\n",
    "* **Underfeeding**\n",
    "* **Inconsistency**\n",
    "* **Labor-intensive**\n",
    "* **Food Waste**\n",
    "* **Monitoring Issues**"
   ]
  },
  {
   "cell_type": "markdown",
   "id": "06086f88-2574-4382-a5d1-1ef19eb33c20",
   "metadata": {},
   "source": [
    "---"
   ]
  },
  {
   "cell_type": "markdown",
   "id": "0d22bae2-8f87-404f-8ebd-0cdca7a95ac5",
   "metadata": {},
   "source": [
    "### Overfeeding:"
   ]
  },
  {
   "cell_type": "markdown",
   "id": "ce8329cc-6c87-4e11-a217-cee7b77fc87b",
   "metadata": {},
   "source": [
    "<span style=\"font-family: Verdana;\">Human error or inaccurate timers can lead to overfeeding. This wastes food and can cause health issues in the animals from obesity.</span>\n"
   ]
  },
  {
   "cell_type": "markdown",
   "id": "2ae41468-2680-40c7-a467-b193fe82cc63",
   "metadata": {},
   "source": [
    "<table> <tr> <td> <img src=\"https://the-chicken-chick.com/wp-content/uploads/2015/12/IamnotfatI27mfluffy.jpg\" alt=\"Fluffy chicken image 1\" width=\"400\"> </td> <td> <img src=\"https://toptailspetsitting.com/wp-content/uploads/2014/04/59a68487fa4287a9fe31610f852e6f3f.jpg\" alt=\"Chicken feeding image 2\" width=\"450\"> </td> </tr> </table>\n",
    "</table>"
   ]
  },
  {
   "cell_type": "markdown",
   "id": "5492cfd9-a801-43da-9bbf-4a8c03e27b04",
   "metadata": {},
   "source": [
    "---"
   ]
  },
  {
   "cell_type": "markdown",
   "id": "0dd32d8f-f776-4aac-9b1e-2e8d04d5dcfa",
   "metadata": {},
   "source": [
    "### Underfeeding:"
   ]
  },
  {
   "cell_type": "markdown",
   "id": "5015aabf-495e-4711-b948-41c4b88ef153",
   "metadata": {},
   "source": [
    "\n",
    "<span style=\"font-family: Verdana;\">Forgetting or being too busy to feed the animals on time can lead to underfeeding. This risks the health and growth of the animals.</span>\n"
   ]
  },
  {
   "cell_type": "markdown",
   "id": "c7d19485-3bb3-420f-addf-339be432370f",
   "metadata": {},
   "source": [
    "<table> <tr> <td> <img src=\"https://cs-tf.com/wp-content/uploads/2021/07/how-often-should-chickens-be-fed1.jpg\" alt=\"Fluffy chicken image 1\" width=\"400\"> </td> <td> <img src=\"https://www.thoughtco.com/thmb/Z1VG6JLfm2CmdqaxqVg9pRIMI10=/1500x0/filters:no_upscale():max_bytes(150000):strip_icc()/goldfish-5be9ea5ec9e77c0052ea141d.png\" alt=\"Chicken feeding image 2\" width=\"380\"> </td> </tr> </table>"
   ]
  },
  {
   "cell_type": "markdown",
   "id": "382a730f-9b9f-4e47-9703-8bb00b2a5608",
   "metadata": {},
   "source": [
    "---"
   ]
  },
  {
   "cell_type": "markdown",
   "id": "dfed8564-b755-42da-86a0-b309ae3787e0",
   "metadata": {},
   "source": [
    "### Inconsistency:"
   ]
  },
  {
   "cell_type": "markdown",
   "id": "457464e7-c0e1-4b89-8a7c-84c601154fe4",
   "metadata": {},
   "source": [
    "\n",
    "\n",
    "\n",
    "<span style=\"font-family: Verdana;\">The amount fed can vary greatly depending on who is feeding and accuracy of scoop sizes/timers. This leads to inconsistent nutrition.</span>\n"
   ]
  },
  {
   "cell_type": "markdown",
   "id": "114d79d8-cc2e-48eb-8733-f80738fc7a7d",
   "metadata": {},
   "source": [
    "<center><img src=\"https://pgcbasketball.com/wp-content/uploads/2016/01/CONSISTENT.001-001-770x433.jpg\" alt=\"drawing\" width=\"600\"/></center>"
   ]
  },
  {
   "cell_type": "markdown",
   "id": "f2010ab1-7385-4dde-8f4a-066a1c60a573",
   "metadata": {},
   "source": [
    "---"
   ]
  },
  {
   "cell_type": "markdown",
   "id": "f4a76a97-7713-4907-92a5-ac0bca3b8e7d",
   "metadata": {},
   "source": [
    "### Labor-intensive:"
   ]
  },
  {
   "cell_type": "markdown",
   "id": "b7e1529c-2808-462c-81d2-8ab9ac38c11a",
   "metadata": {},
   "source": [
    "\n",
    "\n",
    "<span style=\"font-family: Verdana;\">Hand-feeding multiple times per day requires significant labor. This increases costs, especially for small farms.</span>\n"
   ]
  },
  {
   "cell_type": "markdown",
   "id": "c06cc097-cf32-4f89-945c-e8d6c37a557f",
   "metadata": {},
   "source": [
    "\n",
    "<Center><img src=\"https://media.tenor.com/EzYR7fuJ3EIAAAAC/feed-chicken.gif\" alt=\"drawing\" width=\"500\"/>"
   ]
  },
  {
   "cell_type": "markdown",
   "id": "6f762624-03ad-4af1-ae03-804b114bdd66",
   "metadata": {},
   "source": [
    "---"
   ]
  },
  {
   "cell_type": "markdown",
   "id": "b7111ab5-40e6-4315-9043-0c8e5e1e2676",
   "metadata": {},
   "source": [
    "### Food waste:"
   ]
  },
  {
   "cell_type": "markdown",
   "id": "e8105c79-38ff-436b-8e16-88c0541d24ee",
   "metadata": {},
   "source": [
    "\n",
    "<span style=\"font-family: Verdana;\">Feed spilled on the ground attracts rodents and spoils quickly. Animals also reject low quality feed. All lead to food waste.</span>\n",
    "\n",
    "\n"
   ]
  },
  {
   "cell_type": "markdown",
   "id": "2fc90e9a-fe53-461e-b85d-cad0c5b1d521",
   "metadata": {},
   "source": [
    "<center>\n",
    "<img src=\"https://media.tenor.com/2o7q7vF9X0cAAAAC/we-dont-waste-food-over-here-eating.gif\" alt=\"drawing\" width=\"600\"/>"
   ]
  },
  {
   "cell_type": "markdown",
   "id": "85890691-8434-4f48-a9cf-3586a4de4a61",
   "metadata": {},
   "source": [
    "---"
   ]
  },
  {
   "cell_type": "markdown",
   "id": "94759182-71ef-40eb-a4ae-f8d5f4c4ead4",
   "metadata": {},
   "source": [
    "### Monitoring issues:"
   ]
  },
  {
   "cell_type": "markdown",
   "id": "d2990272-c8d7-4db2-aaae-a6a4027a0923",
   "metadata": {},
   "source": [
    "\n",
    "<span style=\"font-family: Verdana;\">It is difficult to monitor exactly how much each animal has eaten with hand-feeding or timed release. This makes optimizing diets challenging.</span>\n"
   ]
  },
  {
   "cell_type": "markdown",
   "id": "18cb85df-3547-4e60-8b69-3dbb1bcb05e3",
   "metadata": {},
   "source": [
    "<center><img src = \"https://checkbrand.online/frontend/images/innerpages/16952-group-working-1.gif\" alt = \"Image\" width = \"400\">"
   ]
  },
  {
   "cell_type": "markdown",
   "id": "0a4939a2-2224-4db3-9799-3c45c3ed4a0f",
   "metadata": {},
   "source": [
    "---"
   ]
  },
  {
   "cell_type": "markdown",
   "id": "ef94b6c4-c3f6-4365-8a03-32a9cb2ba6ad",
   "metadata": {},
   "source": [
    "## Proposed Approach"
   ]
  },
  {
   "cell_type": "markdown",
   "id": "6394e149-4dac-4ded-8550-08a02b7b6f79",
   "metadata": {},
   "source": [
    "#### > Collect data on healthier feeding patterns based on different species."
   ]
  },
  {
   "cell_type": "markdown",
   "id": "cba2b883-63b8-4687-96ad-283cddbb61f7",
   "metadata": {},
   "source": [
    "<center> <img src = \"https://cdn.dribbble.com/users/576057/screenshots/3299406/media/e2cf692007901834b1cfe4f6fedb0d23.gif\" alt = \"Image\" width = 500><center"
   ]
  },
  {
   "cell_type": "markdown",
   "id": "4989eaa1-5b33-467b-86bb-63ffd504b12e",
   "metadata": {},
   "source": [
    "*For chickens, key data categories should include:*\n",
    "* Breed/variety - captures differences in size, feed conversion efficiency\n",
    "* Age - tracks changes in feeding from chicks to hens\n",
    "* Weight - important for understanding quantity needs\n",
    "* Feed types - ingredients, pellet size, nutrients, etc.\n",
    "* Feeding schedule - frequency, timing, duration"
   ]
  },
  {
   "cell_type": "markdown",
   "id": "43405cef-5e8a-4e95-a615-8d12eae0b0a1",
   "metadata": {},
   "source": [
    "*For fishes, key data categories should include:*\n",
    "\n",
    "* Species - there will be dietary differences between species.\n",
    "* Age/ Developmental Stage - feeding changes from fry to fingerlings to adult\n",
    "* Weight - impacts quantity needs\n",
    "* Water temperature - influences metabolism and demand\n",
    "* Feed types - formulas, pellet sizes, nutrient profiles\n",
    "* Feeding rate - daily/weekly frequencies and durations"
   ]
  },
  {
   "cell_type": "markdown",
   "id": "047a0f21-640e-4228-8897-03bf0a728f33",
   "metadata": {},
   "source": [
    "---"
   ]
  },
  {
   "cell_type": "markdown",
   "id": "6a31c5c3-b016-44df-abed-760dc847fe65",
   "metadata": {},
   "source": [
    "#### > Building the model:"
   ]
  },
  {
   "cell_type": "markdown",
   "id": "c465f9f4-49b0-4801-a3fc-e47c74161f13",
   "metadata": {},
   "source": [
    "<center><img src = \"https://lordicon.com/icons/wired/flat/1524-bricks-toy.gif\" alt = \"image\" width = 300>"
   ]
  },
  {
   "cell_type": "markdown",
   "id": "0b4a59e2-b0a8-4a98-8bfa-2926887a9e8e",
   "metadata": {},
   "source": [
    "\n",
    "\n",
    "\n",
    "<span style=\"font-family: Verdana;\">Using python and sophisticated machine learning techniques and algorithms, we can build a model that will accurately suggest the timings and quantity of the food to be served that will result in healthier chickens and fishes. The data collected will play a major role as the results depend mostly on the data in hand and the proposed machine learning technique that is used.</span>\n"
   ]
  },
  {
   "cell_type": "markdown",
   "id": "1e494e1e-f052-46c0-af2f-3f2bc8e2a779",
   "metadata": {},
   "source": [
    "---"
   ]
  },
  {
   "cell_type": "markdown",
   "id": "ab081e19-7605-415b-90c5-cb005c899892",
   "metadata": {},
   "source": [
    "#### > Required Hardware Systems for Implementation:\n"
   ]
  },
  {
   "cell_type": "markdown",
   "id": "79d27436-ea3a-4b41-a656-a546b97a4cbb",
   "metadata": {},
   "source": [
    "<center><img src = 'https://image.made-in-china.com/44f3j00WjuVOywlffgz/Poultry-Farming-Equipment-Hot-DIP-Galvanized-Four-Hole-Feeding-Tube.webp' width = 500>"
   ]
  },
  {
   "cell_type": "markdown",
   "id": "b0175eda-acdf-49a9-9658-55d460281b37",
   "metadata": {},
   "source": [
    "\n",
    "<span style=\"font-family: Verdana;\"><center>For chickens, we can use the tube feeding systems</span>\n"
   ]
  },
  {
   "cell_type": "markdown",
   "id": "ed7d0a3a-0bbf-4640-8c4d-fff075db8397",
   "metadata": {},
   "source": [
    "<center><img src = \"https://res.cloudinary.com/hrm7k9db3/image/upload/v1517239669/iyp6avvypuyijbhol4da.jpg\" width = 500>"
   ]
  },
  {
   "cell_type": "markdown",
   "id": "79abc673-6414-4384-a435-7ec814c08951",
   "metadata": {},
   "source": [
    "\n",
    "<span style=\"font-family: Verdana;\"><center>For fishes, we can use a similar feeding system as show above</span>\n"
   ]
  },
  {
   "cell_type": "markdown",
   "id": "30475353-c31f-46d9-a300-9b4af15c8ac4",
   "metadata": {},
   "source": [
    "##### *These hardware systems will be controlled by the signals generated by the model that will be trained which will ensure timely delivery of the task in hand*"
   ]
  },
  {
   "cell_type": "markdown",
   "id": "bca3a495-79ee-4665-88ee-f2d850cb7263",
   "metadata": {},
   "source": [
    "---"
   ]
  },
  {
   "cell_type": "markdown",
   "id": "8a1a92aa-1ec7-45e7-ac6b-6be2a0b55199",
   "metadata": {},
   "source": [
    "### > Suggested Developments:"
   ]
  },
  {
   "cell_type": "markdown",
   "id": "b569147b-096e-4e6d-859a-0ede3ddc7349",
   "metadata": {},
   "source": [
    "\n",
    "<span style=\"font-family: Verdana;\">\n",
    "    \n",
    "> * Division of chickens and fishes based on their species and health condition for better execution.   \n",
    "> * Integrating the model with the modern AI assistant apps to get a quick summary of the executed tasks or tasks in schedule.\n",
    "</span>\n"
   ]
  },
  {
   "cell_type": "markdown",
   "id": "85e19b57-406c-43ec-8945-b0cefae4c184",
   "metadata": {},
   "source": [
    "---"
   ]
  },
  {
   "cell_type": "markdown",
   "id": "59a66264-fb5c-4238-8f53-e6bd3b16c0d6",
   "metadata": {},
   "source": [
    "### <span style=\"font-family: Verdana;\">> Vision: </span>"
   ]
  },
  {
   "cell_type": "markdown",
   "id": "6a561cf6-3bfd-4fb4-bdd0-ac505069d6b1",
   "metadata": {},
   "source": [
    "<center> <img src = \"https://media.tenor.com/JM5X0yKCg3oAAAAC/vision-marvel-vision.gif\" alt = \"Vision\" width = 1000>"
   ]
  },
  {
   "cell_type": "markdown",
   "id": "3ff6500f-64f4-4a71-9eee-7857c2d4199b",
   "metadata": {},
   "source": [
    "> *Imagine a cutting-edge system where chickens and fishes are grouped by species and health status.  \n",
    "> Picture this: a revolutionary model, acting as the brain behind hardware systems, precisely serving food to each animal based on their unique needs. This visionary approach guarantees timely and tailored nutrition, ensuring their health and well-being. It's a game-changer, orchestrating the perfect balance between technology and care to optimize their consumption and health.*\n",
    "> \n",
    "> *The main aim is to use detailed feeding records from different breeds of chickens and fishes to create smart machine learning models that will capture their unique feeding requirements.\n",
    "> By analyzing a wide range of factors, we can pinpoint the factors affecting appetite and nutritional needs.*\n",
    "> \n",
    "> *Combining various machine learning methods will help predict feeding schedules for groups of different breeds and individuals.\n",
    "> These models will become the brains behind automated feeding systems, making feeding more efficient with less human effort and this will eliminate the issues faced in the current system such as overfeeding, underfeeding, inconsistency, labor-intensive, food waste and monitoring issues.*\n",
    ">\n",
    "> \n",
    "> *The system will constantly improve by adapting to each farm's needs and real time data. Regular updates will ensure that the models stay in sync with the animals they care for, providing responsive and optimized nutrition*"
   ]
  },
  {
   "cell_type": "markdown",
   "id": "e7f0b842-8e41-47ff-9d14-5e7ca13a6a61",
   "metadata": {},
   "source": [
    "---"
   ]
  },
  {
   "cell_type": "markdown",
   "id": "2b9f8cec-2038-43bb-a7d2-5a2ddf6f5483",
   "metadata": {},
   "source": [
    "# <center> THANK YOU"
   ]
  },
  {
   "cell_type": "markdown",
   "id": "10c35fdc-11bc-484e-aa36-8bdc7eacbc30",
   "metadata": {},
   "source": [
    "---"
   ]
  }
 ],
 "metadata": {
  "kernelspec": {
   "display_name": "Python 3 (ipykernel)",
   "language": "python",
   "name": "python3"
  },
  "language_info": {
   "codemirror_mode": {
    "name": "ipython",
    "version": 3
   },
   "file_extension": ".py",
   "mimetype": "text/x-python",
   "name": "python",
   "nbconvert_exporter": "python",
   "pygments_lexer": "ipython3",
   "version": "3.11.1"
  }
 },
 "nbformat": 4,
 "nbformat_minor": 5
}
